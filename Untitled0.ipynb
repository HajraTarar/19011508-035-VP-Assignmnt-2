{
  "nbformat": 4,
  "nbformat_minor": 0,
  "metadata": {
    "colab": {
      "name": "Untitled0.ipynb",
      "provenance": [],
      "authorship_tag": "ABX9TyP2ATPBwKyZn4g+TzzGfJmg",
      "include_colab_link": true
    },
    "kernelspec": {
      "name": "python3",
      "display_name": "Python 3"
    },
    "language_info": {
      "name": "python"
    }
  },
  "cells": [
    {
      "cell_type": "markdown",
      "metadata": {
        "id": "view-in-github",
        "colab_type": "text"
      },
      "source": [
        "<a href=\"https://colab.research.google.com/github/HajraTarar/19011508-035-VP-Assignmnt-2/blob/main/Untitled0.ipynb\" target=\"_parent\"><img src=\"https://colab.research.google.com/assets/colab-badge.svg\" alt=\"Open In Colab\"/></a>"
      ]
    },
    {
      "cell_type": "code",
      "metadata": {
        "colab": {
          "base_uri": "https://localhost:8080/"
        },
        "id": "kW8Ef8xydIT1",
        "outputId": "81db1ca4-d5d4-477a-cdfb-3dc5f922e54c"
      },
      "source": [
        " \n",
        "from math import pi\n",
        "hajra = float(input (\"add radius of the circle : \"))\n",
        "print (\"area \" + str(hajra) + \" is: \" + str(pi*hajra**2))"
      ],
      "execution_count": null,
      "outputs": [
        {
          "output_type": "stream",
          "text": [
            "add radius of the circle : 4\n",
            "area 4.0 is: 50.26548245743669\n"
          ],
          "name": "stdout"
        }
      ]
    },
    {
      "cell_type": "code",
      "metadata": {
        "colab": {
          "base_uri": "https://localhost:8080/"
        },
        "id": "610-hBRriITy",
        "outputId": "6f07a95d-77b0-42f6-cf99-bc630d26dfa6"
      },
      "source": [
        " \n",
        "hajra=input(\"add a number \")\n",
        "list=hajra.split(\",\")\n",
        "tuple=tuple (list)\n",
        "print(' Mine list',list)\n",
        "print('Mine tuple',tuple)"
      ],
      "execution_count": 13,
      "outputs": [
        {
          "output_type": "stream",
          "text": [
            "add a number 9,8,7\n",
            " Mine list ['9', '8', '7']\n",
            "Mine tuple ('9', '8', '7')\n"
          ],
          "name": "stdout"
        }
      ]
    },
    {
      "cell_type": "code",
      "metadata": {
        "colab": {
          "base_uri": "https://localhost:8080/"
        },
        "id": "0bySOfZufHWv",
        "outputId": "1076c848-f6a9-46b8-f3a7-c94c8a70b9e9"
      },
      "source": [
        " \n",
        "def position(h):\n",
        "  if len(h) == len(set(h)):\n",
        "    return True\n",
        "  else:\n",
        "    return False;\n",
        "print(position([9,8,7]))\n",
        "print(position([6,5,4]))"
      ],
      "execution_count": 5,
      "outputs": [
        {
          "output_type": "stream",
          "text": [
            "True\n",
            "True\n"
          ],
          "name": "stdout"
        }
      ]
    },
    {
      "cell_type": "code",
      "metadata": {
        "colab": {
          "base_uri": "https://localhost:8080/"
        },
        "id": "RxK7TKschtQS",
        "outputId": "67e72527-08a6-43df-9611-5369f1107d02"
      },
      "source": [
        " \n",
        "def remove_nums(int_list):\n",
        "  #list starts with 0 \n",
        "  position = 4 - 1 \n",
        "  idx = 0\n",
        "  len_list = (len(int_list))\n",
        "  while len_list>0:\n",
        "    idx = (position+idx)%len_list\n",
        "    print(int_list.pop(idx))\n",
        "    len_list -= 1\n",
        "nums = [9,8,7,6,5,4,3,2,1]\n",
        "remove_nums(nums)"
      ],
      "execution_count": 14,
      "outputs": [
        {
          "output_type": "stream",
          "text": [
            "6\n",
            "2\n",
            "7\n",
            "1\n",
            "4\n",
            "5\n",
            "3\n",
            "8\n",
            "9\n"
          ],
          "name": "stdout"
        }
      ]
    }
  ]
}